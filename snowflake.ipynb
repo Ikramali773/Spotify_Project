{
 "cells": [
  {
   "cell_type": "code",
   "execution_count": 1,
   "metadata": {},
   "outputs": [],
   "source": [
    "import snowflake.connector"
   ]
  },
  {
   "cell_type": "code",
   "execution_count": 2,
   "metadata": {},
   "outputs": [],
   "source": [
    "import credentials\n",
    "con = snowflake.connector.connect(\n",
    "    user=credentials.Username,\n",
    "    password=credentials.password,\n",
    "    account='fzkreem-ojb05768',\n",
    "    role='ACCOUNTADMIN',\n",
    "    warehouse='COMPUTE_WH',\n",
    "    database='SPOTIFY_DB',\n",
    "    schema='MY_SCHEMA'\n",
    ")"
   ]
  },
  {
   "cell_type": "code",
   "execution_count": 3,
   "metadata": {},
   "outputs": [],
   "source": [
    "cs=con.cursor()"
   ]
  },
  {
   "cell_type": "code",
   "execution_count": 4,
   "metadata": {},
   "outputs": [],
   "source": [
    "from snowflake.connector.pandas_tools import write_pandas\n",
    "import pandas as pd\n",
    "data=pd.read_csv('artist.csv')"
   ]
  },
  {
   "cell_type": "code",
   "execution_count": 23,
   "metadata": {},
   "outputs": [
    {
     "data": {
      "text/plain": [
       "<snowflake.connector.cursor.SnowflakeCursor at 0x18e2d086240>"
      ]
     },
     "execution_count": 23,
     "metadata": {},
     "output_type": "execute_result"
    }
   ],
   "source": [
    "cs.execute('Create or replace Schema spotify_db.my_schema')"
   ]
  },
  {
   "cell_type": "code",
   "execution_count": 42,
   "metadata": {},
   "outputs": [
    {
     "data": {
      "text/plain": [
       "<snowflake.connector.cursor.SnowflakeCursor at 0x18e2d086240>"
      ]
     },
     "execution_count": 42,
     "metadata": {},
     "output_type": "execute_result"
    }
   ],
   "source": [
    "cs.execute('Create or replace table spotify_db.my_schema.Artists(\"id\" string, \"name\" string,\"popularity\" Number(10, 0), \"FOLLOWERS\" Number(20, 0), \"genres\" variant)')"
   ]
  },
  {
   "cell_type": "code",
   "execution_count": 6,
   "metadata": {},
   "outputs": [],
   "source": [
    "data.columns\n",
    "data.drop(columns=['Unnamed: 0', 'type'], inplace=True)\n"
   ]
  },
  {
   "cell_type": "code",
   "execution_count": 10,
   "metadata": {},
   "outputs": [],
   "source": [
    "# data.drop(columns= 'images', inplace= True)\n",
    "data.drop(columns= ['uri', 'external_urls.spotify', 'followers.href'], inplace= True)"
   ]
  },
  {
   "cell_type": "code",
   "execution_count": 14,
   "metadata": {},
   "outputs": [
    {
     "data": {
      "application/vnd.microsoft.datawrangler.viewer.v0+json": {
       "columns": [
        {
         "name": "index",
         "rawType": "int64",
         "type": "integer"
        },
        {
         "name": "id",
         "rawType": "object",
         "type": "string"
        },
        {
         "name": "name",
         "rawType": "object",
         "type": "string"
        },
        {
         "name": "popularity",
         "rawType": "int64",
         "type": "integer"
        },
        {
         "name": "FOLLOWERS",
         "rawType": "int64",
         "type": "integer"
        },
        {
         "name": "genres",
         "rawType": "object",
         "type": "string"
        }
       ],
       "conversionMethod": "pd.DataFrame",
       "ref": "770f6d08-acb1-4597-a650-4a3e7f3ed7c7",
       "rows": [
        [
         "0",
         "0TF6B1cp2QZXLE0NjhTMT9",
         "LITE",
         "29",
         "65406",
         "['math rock', 'post-rock']"
        ],
        [
         "1",
         "2lQvoGjN6jJfsAkaywtgrB",
         "Canibus",
         "39",
         "112620",
         "['east coast hip hop', 'hardcore hip hop', 'underground hip hop']"
        ],
        [
         "2",
         "3BeQqzKdlARoOd6y30kCO2",
         "Pete Rock",
         "53",
         "371122",
         "['jazz rap', 'east coast hip hop', 'boom bap']"
        ],
        [
         "3",
         "4VhYUWpDsLraUG6Sd8g9TF",
         "Bronze Nazareth",
         "33",
         "22608",
         "['underground hip hop', 'boom bap']"
        ],
        [
         "4",
         "26T3LtbuGT1Fu9m0eRq5X3",
         "Cage The Elephant",
         "74",
         "4072876",
         "['modern rock']"
        ],
        [
         "5",
         "5rexG906fVLfq8H9m8J9P9",
         "Alison Mosshart",
         "42",
         "20808",
         "[]"
        ],
        [
         "6",
         "4FGPzWzgjURDNT7JQ8pYgH",
         "Zach Top",
         "74",
         "482638",
         "['country']"
        ],
        [
         "7",
         "6zuxaIpAfcRq48qHl9f5KO",
         "Marcey Hamm",
         "12",
         "417",
         "['new age']"
        ],
        [
         "8",
         "6T70tWxqyIpdVbsFvPzqM3",
         "La La Land Cast",
         "49",
         "16321",
         "[]"
        ],
        [
         "9",
         "68Uwx1d3EbjDJhYsLjqvIq",
         "Emma Stone",
         "57",
         "54219",
         "['musicals']"
        ],
        [
         "10",
         "13kKxNPnxPeeWQaAaZwvCP",
         "Callie Hernandez",
         "44",
         "460",
         "['musicals']"
        ],
        [
         "11",
         "4FFGJ9ERSX06Sl8hD7GRVv",
         "Sonoya Mizuno",
         "44",
         "429",
         "['musicals']"
        ],
        [
         "12",
         "21yiGQIpkiP8edfxDipQaW",
         "Jessica Rothe",
         "44",
         "467",
         "['musicals']"
        ],
        [
         "13",
         "2snm3HmsnDUDxbIChdl2Oj",
         "Justin Hurwitz",
         "63",
         "180655",
         "[]"
        ],
        [
         "14",
         "6kXm2YCtdUOpRYNKeKhfue",
         "Ryan Gosling",
         "59",
         "261757",
         "[]"
        ],
        [
         "15",
         "5y2Xq6xcjJb2jVM54GHK3t",
         "John Legend",
         "76",
         "7542064",
         "['soft pop', 'neo soul']"
        ],
        [
         "16",
         "3y6Lfjkrdn5TgkbgDxbpvM",
         "marzuz",
         "55",
         "26085",
         "['v-pop', 'vietnam indie', 'vietnamese hip hop']"
        ],
        [
         "17",
         "4XrL4M8qhP14zpdqfb5F9a",
         "maiki",
         "25",
         "48",
         "['v-pop', 'vietnam indie']"
        ],
        [
         "18",
         "0fTSzq9jAh4c36UVb4V7CB",
         "Alex Warren",
         "82",
         "954865",
         "[]"
        ],
        [
         "19",
         "3q7HBObVc0L8jNeTe5Gofh",
         "50 Cent",
         "84",
         "17242355",
         "['east coast hip hop']"
        ],
        [
         "20",
         "7dGJo4pcD2V6oG8kP0tJRR",
         "Eminem",
         "91",
         "98631229",
         "['rap', 'hip hop']"
        ],
        [
         "21",
         "4pr7J7wzgObkE3DD3Izi7q",
         "Young Buck",
         "59",
         "1051704",
         "['southern hip hop', 'crunk']"
        ],
        [
         "22",
         "50UMTib697JJ44le8DO2Va",
         "Tony Yayo",
         "54",
         "391640",
         "['hip hop', 'east coast hip hop']"
        ],
        [
         "23",
         "1Oa0bMld0A3u5OTYfMzp5h",
         "Nate Dogg",
         "77",
         "1775676",
         "['g-funk', 'west coast hip hop', 'gangster rap']"
        ],
        [
         "24",
         "3vDUJHQtqT3jFRZ2ECXDTi",
         "Lloyd Banks",
         "63",
         "1396714",
         "[]"
        ],
        [
         "25",
         "04gDigrS5kc9YWfZHwBETP",
         "Maroon 5",
         "86",
         "44362382",
         "['pop']"
        ],
        [
         "26",
         "137W8MRPWKqSmrBGDBFSop",
         "Wiz Khalifa",
         "82",
         "11927965",
         "['rap']"
        ],
        [
         "27",
         "3euFcFd5Dc7JAz6t7oKg7m",
         "BMZ",
         "52",
         "9876",
         "['v-pop', 'vinahouse', 'vietnam indie', 'vietnamese lo-fi']"
        ],
        [
         "28",
         "6WxtK77H12fJoqJNk6Q1dD",
         "Huy PT",
         "33",
         "1338",
         "['vinahouse']"
        ],
        [
         "29",
         "3kkcWqAkZejjoVFq7xBink",
         "Mimilee",
         "0",
         "0",
         "[]"
        ],
        [
         "30",
         "3GBPw9NK25X1Wt2OUvOwY3",
         "Jack Johnson",
         "76",
         "3970751",
         "['surf rock']"
        ],
        [
         "31",
         "2p48L95TwEaYkSdn6R7LOr",
         "BamBam",
         "54",
         "634811",
         "['k-pop']"
        ],
        [
         "32",
         "2QM5S4yO6xHgnNvF0nbZZq",
         "SEULGI",
         "61",
         "1203270",
         "['k-pop']"
        ],
        [
         "33",
         "23zg3TcAtWQy7J6upgbUnj",
         "USHER",
         "82",
         "12959531",
         "['r&b']"
        ],
        [
         "34",
         "7sfl4Xt5KmfyDs2T3SVSMK",
         "Lil Jon",
         "74",
         "1648687",
         "['crunk']"
        ],
        [
         "35",
         "3ipn9JLAPI5GUEo4y4jcoi",
         "Ludacris",
         "78",
         "3259635",
         "['southern hip hop']"
        ],
        [
         "36",
         "5pnbUBPifNnlusY8kTBivi",
         "Jadakiss",
         "64",
         "1239211",
         "['east coast hip hop']"
        ],
        [
         "37",
         "3DiDSECUqqY1AuBP8qtaIa",
         "Alicia Keys",
         "79",
         "12456284",
         "['r&b', 'neo soul']"
        ],
        [
         "38",
         "64ovxBmjJ9ZDqkzEXVWpVc",
         "Shyne",
         "47",
         "373703",
         "['east coast hip hop']"
        ],
        [
         "39",
         "6vbY3hOaCAhC7VjucswgdS",
         "Twista",
         "66",
         "1172902",
         "[]"
        ],
        [
         "40",
         "5K4W6rqBFWDnAN6FQUkS6x",
         "Kanye West",
         "92",
         "29498794",
         "['rap']"
        ],
        [
         "41",
         "6nfYGe7IIuuP5bMY1jkJP6",
         "Jermaine Dupri",
         "58",
         "512947",
         "['southern hip hop']"
        ],
        [
         "42",
         "1FWowTsaucHkPDgmAGGk4T",
         "Allen Mock",
         "29",
         "17348",
         "[]"
        ],
        [
         "43",
         "3aQeKQSyrW4qWr35idm0cy",
         "T-Pain",
         "79",
         "5356589",
         "[]"
        ],
        [
         "44",
         "55Aa2cqylxrFIXC767Z865",
         "Lil Wayne",
         "88",
         "16572638",
         "['rap', 'hip hop']"
        ],
        [
         "45",
         "0Mz5XE0kb1GBnbLQm2VbcO",
         "Mos Def",
         "66",
         "1572087",
         "['east coast hip hop', 'hip hop']"
        ],
        [
         "46",
         "7u6LfVyYpEzMpHLL7jTyvU",
         "Dwele",
         "68",
         "306376",
         "['neo soul', 'smooth r&b']"
        ],
        [
         "47",
         "6GEykX11lQqp92UVOQQCC7",
         "DJ Premier",
         "65",
         "307616",
         "['east coast hip hop']"
        ],
        [
         "48",
         "0LQoZQIV0mIs0y0XQb0Sw2",
         "Chris Martin",
         "64",
         "65980",
         "[]"
        ],
        [
         "49",
         "1i4q97Tz8xmGWJps51J7WT",
         "Albe Back",
         "46",
         "1699",
         "['spoken word']"
        ]
       ],
       "shape": {
        "columns": 5,
        "rows": 383
       }
      },
      "text/html": [
       "<div>\n",
       "<style scoped>\n",
       "    .dataframe tbody tr th:only-of-type {\n",
       "        vertical-align: middle;\n",
       "    }\n",
       "\n",
       "    .dataframe tbody tr th {\n",
       "        vertical-align: top;\n",
       "    }\n",
       "\n",
       "    .dataframe thead th {\n",
       "        text-align: right;\n",
       "    }\n",
       "</style>\n",
       "<table border=\"1\" class=\"dataframe\">\n",
       "  <thead>\n",
       "    <tr style=\"text-align: right;\">\n",
       "      <th></th>\n",
       "      <th>id</th>\n",
       "      <th>name</th>\n",
       "      <th>popularity</th>\n",
       "      <th>FOLLOWERS</th>\n",
       "      <th>genres</th>\n",
       "    </tr>\n",
       "  </thead>\n",
       "  <tbody>\n",
       "    <tr>\n",
       "      <th>0</th>\n",
       "      <td>0TF6B1cp2QZXLE0NjhTMT9</td>\n",
       "      <td>LITE</td>\n",
       "      <td>29</td>\n",
       "      <td>65406</td>\n",
       "      <td>['math rock', 'post-rock']</td>\n",
       "    </tr>\n",
       "    <tr>\n",
       "      <th>1</th>\n",
       "      <td>2lQvoGjN6jJfsAkaywtgrB</td>\n",
       "      <td>Canibus</td>\n",
       "      <td>39</td>\n",
       "      <td>112620</td>\n",
       "      <td>['east coast hip hop', 'hardcore hip hop', 'un...</td>\n",
       "    </tr>\n",
       "    <tr>\n",
       "      <th>2</th>\n",
       "      <td>3BeQqzKdlARoOd6y30kCO2</td>\n",
       "      <td>Pete Rock</td>\n",
       "      <td>53</td>\n",
       "      <td>371122</td>\n",
       "      <td>['jazz rap', 'east coast hip hop', 'boom bap']</td>\n",
       "    </tr>\n",
       "    <tr>\n",
       "      <th>3</th>\n",
       "      <td>4VhYUWpDsLraUG6Sd8g9TF</td>\n",
       "      <td>Bronze Nazareth</td>\n",
       "      <td>33</td>\n",
       "      <td>22608</td>\n",
       "      <td>['underground hip hop', 'boom bap']</td>\n",
       "    </tr>\n",
       "    <tr>\n",
       "      <th>4</th>\n",
       "      <td>26T3LtbuGT1Fu9m0eRq5X3</td>\n",
       "      <td>Cage The Elephant</td>\n",
       "      <td>74</td>\n",
       "      <td>4072876</td>\n",
       "      <td>['modern rock']</td>\n",
       "    </tr>\n",
       "    <tr>\n",
       "      <th>...</th>\n",
       "      <td>...</td>\n",
       "      <td>...</td>\n",
       "      <td>...</td>\n",
       "      <td>...</td>\n",
       "      <td>...</td>\n",
       "    </tr>\n",
       "    <tr>\n",
       "      <th>378</th>\n",
       "      <td>2mJOGcLR3aCHkM1uAF93or</td>\n",
       "      <td>DREAMS COME TRUE</td>\n",
       "      <td>61</td>\n",
       "      <td>1660540</td>\n",
       "      <td>['j-pop', 'kayokyoku', 'city pop']</td>\n",
       "    </tr>\n",
       "    <tr>\n",
       "      <th>379</th>\n",
       "      <td>26VFTg2z8YR0cCuwLzESi2</td>\n",
       "      <td>Halsey</td>\n",
       "      <td>83</td>\n",
       "      <td>22014369</td>\n",
       "      <td>[]</td>\n",
       "    </tr>\n",
       "    <tr>\n",
       "      <th>380</th>\n",
       "      <td>5he5w2lnU9x7JFhnwcekXX</td>\n",
       "      <td>Skrillex</td>\n",
       "      <td>76</td>\n",
       "      <td>7688619</td>\n",
       "      <td>['dubstep', 'edm', 'electro', 'electronic']</td>\n",
       "    </tr>\n",
       "    <tr>\n",
       "      <th>381</th>\n",
       "      <td>5fMUXHkw8R8eOP2RNVYEZX</td>\n",
       "      <td>Diplo</td>\n",
       "      <td>78</td>\n",
       "      <td>2758525</td>\n",
       "      <td>['moombahton']</td>\n",
       "    </tr>\n",
       "    <tr>\n",
       "      <th>382</th>\n",
       "      <td>20qISvAhX20dpIbOOzGK3q</td>\n",
       "      <td>Nas</td>\n",
       "      <td>73</td>\n",
       "      <td>4099316</td>\n",
       "      <td>['east coast hip hop', 'hip hop']</td>\n",
       "    </tr>\n",
       "  </tbody>\n",
       "</table>\n",
       "<p>383 rows × 5 columns</p>\n",
       "</div>"
      ],
      "text/plain": [
       "                         id               name  popularity  FOLLOWERS  \\\n",
       "0    0TF6B1cp2QZXLE0NjhTMT9               LITE          29      65406   \n",
       "1    2lQvoGjN6jJfsAkaywtgrB            Canibus          39     112620   \n",
       "2    3BeQqzKdlARoOd6y30kCO2          Pete Rock          53     371122   \n",
       "3    4VhYUWpDsLraUG6Sd8g9TF    Bronze Nazareth          33      22608   \n",
       "4    26T3LtbuGT1Fu9m0eRq5X3  Cage The Elephant          74    4072876   \n",
       "..                      ...                ...         ...        ...   \n",
       "378  2mJOGcLR3aCHkM1uAF93or   DREAMS COME TRUE          61    1660540   \n",
       "379  26VFTg2z8YR0cCuwLzESi2             Halsey          83   22014369   \n",
       "380  5he5w2lnU9x7JFhnwcekXX           Skrillex          76    7688619   \n",
       "381  5fMUXHkw8R8eOP2RNVYEZX              Diplo          78    2758525   \n",
       "382  20qISvAhX20dpIbOOzGK3q                Nas          73    4099316   \n",
       "\n",
       "                                                genres  \n",
       "0                           ['math rock', 'post-rock']  \n",
       "1    ['east coast hip hop', 'hardcore hip hop', 'un...  \n",
       "2       ['jazz rap', 'east coast hip hop', 'boom bap']  \n",
       "3                  ['underground hip hop', 'boom bap']  \n",
       "4                                      ['modern rock']  \n",
       "..                                                 ...  \n",
       "378                 ['j-pop', 'kayokyoku', 'city pop']  \n",
       "379                                                 []  \n",
       "380        ['dubstep', 'edm', 'electro', 'electronic']  \n",
       "381                                     ['moombahton']  \n",
       "382                  ['east coast hip hop', 'hip hop']  \n",
       "\n",
       "[383 rows x 5 columns]"
      ]
     },
     "execution_count": 14,
     "metadata": {},
     "output_type": "execute_result"
    }
   ],
   "source": [
    "data"
   ]
  },
  {
   "cell_type": "code",
   "execution_count": 12,
   "metadata": {},
   "outputs": [],
   "source": [
    "data=data.iloc[:, [1, 2, 3, 4, 0]]"
   ]
  },
  {
   "cell_type": "code",
   "execution_count": 13,
   "metadata": {},
   "outputs": [],
   "source": [
    "\n",
    "# data['id']=data['id'].astype('string')\n",
    "data\n",
    "data.rename(columns={'followers.total': 'FOLLOWERS'}, inplace=True)"
   ]
  },
  {
   "cell_type": "code",
   "execution_count": null,
   "metadata": {},
   "outputs": [
    {
     "ename": "NameError",
     "evalue": "name 'data' is not defined",
     "output_type": "error",
     "traceback": [
      "\u001b[31m---------------------------------------------------------------------------\u001b[39m",
      "\u001b[31mNameError\u001b[39m                                 Traceback (most recent call last)",
      "\u001b[36mCell\u001b[39m\u001b[36m \u001b[39m\u001b[32mIn[9]\u001b[39m\u001b[32m, line 3\u001b[39m\n\u001b[32m      1\u001b[39m \u001b[38;5;66;03m# cs.execute('Use SCHEMA MY_SCHEMA')\u001b[39;00m\n\u001b[32m      2\u001b[39m \u001b[38;5;28;01mfrom\u001b[39;00m\u001b[38;5;250m \u001b[39m\u001b[34;01msnowflake\u001b[39;00m\u001b[34;01m.\u001b[39;00m\u001b[34;01mconnector\u001b[39;00m\u001b[34;01m.\u001b[39;00m\u001b[34;01mpandas_tools\u001b[39;00m\u001b[38;5;250m \u001b[39m\u001b[38;5;28;01mimport\u001b[39;00m write_pandas\n\u001b[32m----> \u001b[39m\u001b[32m3\u001b[39m write_pandas(con, \u001b[43mdata\u001b[49m, table_name=\u001b[33m\"\u001b[39m\u001b[33mARTISTS\u001b[39m\u001b[33m\"\u001b[39m)\n",
      "\u001b[31mNameError\u001b[39m: name 'data' is not defined"
     ]
    }
   ],
   "source": [
    "# cs.execute('Use SCHEMA MY_SCHEMA')\n",
    "write_pandas(con, data, table_name=\"ARTISTS\")"
   ]
  },
  {
   "cell_type": "code",
   "execution_count": 1,
   "metadata": {},
   "outputs": [],
   "source": [
    "import pandas as pd\n",
    "artist_discography_df= pd.read_csv('artist_discography.csv')"
   ]
  },
  {
   "cell_type": "code",
   "execution_count": 2,
   "metadata": {},
   "outputs": [],
   "source": [
    "artist_discography_df\n",
    "artist_discography_df.drop(columns=['Unnamed: 0', 'extensions', 'data.artist.uri', 'data.artist.discography.compilations.totalCount', 'message'], inplace=True)"
   ]
  },
  {
   "cell_type": "code",
   "execution_count": 3,
   "metadata": {},
   "outputs": [],
   "source": [
    "artist_discography_df.rename(columns={'data.artist.id':'ID', 'data.artist.profile.name': 'NAME', 'data.artist.discography.albums.totalCount':'TOTAL_ALBUMS', 'data.artist.discography.singles.totalCount':'TOTAL_SINGLES'}, inplace=True)"
   ]
  },
  {
   "cell_type": "code",
   "execution_count": 4,
   "metadata": {},
   "outputs": [
    {
     "data": {
      "application/vnd.microsoft.datawrangler.viewer.v0+json": {
       "columns": [
        {
         "name": "index",
         "rawType": "int64",
         "type": "integer"
        },
        {
         "name": "ID",
         "rawType": "object",
         "type": "unknown"
        },
        {
         "name": "NAME",
         "rawType": "object",
         "type": "unknown"
        },
        {
         "name": "TOTAL_ALBUMS",
         "rawType": "float64",
         "type": "float"
        },
        {
         "name": "TOTAL_SINGLES",
         "rawType": "float64",
         "type": "float"
        }
       ],
       "conversionMethod": "pd.DataFrame",
       "ref": "2259f324-7de2-414a-a576-e1a7423a7caa",
       "rows": [
        [
         "0",
         "0TF6B1cp2QZXLE0NjhTMT9",
         "LITE",
         "15.0",
         "15.0"
        ],
        [
         "1",
         "2lQvoGjN6jJfsAkaywtgrB",
         "Canibus",
         "32.0",
         "37.0"
        ],
        [
         "2",
         "3BeQqzKdlARoOd6y30kCO2",
         "Pete Rock",
         "25.0",
         "45.0"
        ],
        [
         "3",
         "4VhYUWpDsLraUG6Sd8g9TF",
         "Bronze Nazareth",
         "28.0",
         "30.0"
        ],
        [
         "4",
         "26T3LtbuGT1Fu9m0eRq5X3",
         "Cage The Elephant",
         "9.0",
         "13.0"
        ],
        [
         "5",
         "5rexG906fVLfq8H9m8J9P9",
         "Alison Mosshart",
         "1.0",
         "6.0"
        ],
        [
         "6",
         "4FGPzWzgjURDNT7JQ8pYgH",
         "Zach Top",
         "2.0",
         "17.0"
        ],
        [
         "7",
         "6zuxaIpAfcRq48qHl9f5KO",
         "Marcey Hamm",
         "6.0",
         "0.0"
        ],
        [
         "8",
         "6T70tWxqyIpdVbsFvPzqM3",
         "La La Land Cast",
         "0.0",
         "0.0"
        ],
        [
         "9",
         "68Uwx1d3EbjDJhYsLjqvIq",
         "Emma Stone",
         "0.0",
         "3.0"
        ],
        [
         "10",
         "13kKxNPnxPeeWQaAaZwvCP",
         "Callie Hernandez",
         "0.0",
         "0.0"
        ],
        [
         "11",
         "4FFGJ9ERSX06Sl8hD7GRVv",
         "Sonoya Mizuno",
         "0.0",
         "0.0"
        ],
        [
         "12",
         "21yiGQIpkiP8edfxDipQaW",
         "Jessica Rothe",
         "0.0",
         "0.0"
        ],
        [
         "13",
         "2snm3HmsnDUDxbIChdl2Oj",
         "Justin Hurwitz",
         "7.0",
         "4.0"
        ],
        [
         "14",
         "6kXm2YCtdUOpRYNKeKhfue",
         "Ryan Gosling",
         "0.0",
         "5.0"
        ],
        [
         "15",
         "5y2Xq6xcjJb2jVM54GHK3t",
         "John Legend",
         "18.0",
         "79.0"
        ],
        [
         "16",
         "3y6Lfjkrdn5TgkbgDxbpvM",
         "marzuz",
         "1.0",
         "8.0"
        ],
        [
         "17",
         "4XrL4M8qhP14zpdqfb5F9a",
         "maiki",
         "0.0",
         "0.0"
        ],
        [
         "18",
         "0fTSzq9jAh4c36UVb4V7CB",
         "Alex Warren",
         "1.0",
         "23.0"
        ],
        [
         "19",
         "3q7HBObVc0L8jNeTe5Gofh",
         "50 Cent",
         "7.0",
         "42.0"
        ],
        [
         "20",
         "7dGJo4pcD2V6oG8kP0tJRR",
         "Eminem",
         "20.0",
         "32.0"
        ],
        [
         "21",
         "4pr7J7wzgObkE3DD3Izi7q",
         "Young Buck",
         "80.0",
         "60.0"
        ],
        [
         "22",
         "50UMTib697JJ44le8DO2Va",
         "Tony Yayo",
         "10.0",
         "11.0"
        ],
        [
         "23",
         "1Oa0bMld0A3u5OTYfMzp5h",
         "Nate Dogg",
         "5.0",
         "17.0"
        ],
        [
         "24",
         "3vDUJHQtqT3jFRZ2ECXDTi",
         "Lloyd Banks",
         "19.0",
         "20.0"
        ],
        [
         "25",
         "04gDigrS5kc9YWfZHwBETP",
         "Maroon 5",
         "14.0",
         "38.0"
        ],
        [
         "26",
         "137W8MRPWKqSmrBGDBFSop",
         "Wiz Khalifa",
         "35.0",
         "128.0"
        ],
        [
         "27",
         "3euFcFd5Dc7JAz6t7oKg7m",
         "BMZ",
         "1.0",
         "1025.0"
        ],
        [
         "28",
         "6WxtK77H12fJoqJNk6Q1dD",
         "Huy PT",
         "0.0",
         "48.0"
        ],
        [
         "29",
         "3kkcWqAkZejjoVFq7xBink",
         "Mimilee",
         "0.0",
         "3.0"
        ],
        [
         "30",
         "3GBPw9NK25X1Wt2OUvOwY3",
         "Jack Johnson",
         "16.0",
         "23.0"
        ],
        [
         "31",
         "2p48L95TwEaYkSdn6R7LOr",
         "BamBam",
         "1.0",
         "12.0"
        ],
        [
         "32",
         "2QM5S4yO6xHgnNvF0nbZZq",
         "SEULGI",
         "0.0",
         "13.0"
        ],
        [
         "33",
         "23zg3TcAtWQy7J6upgbUnj",
         "USHER",
         "15.0",
         "47.0"
        ],
        [
         "34",
         "7sfl4Xt5KmfyDs2T3SVSMK",
         "Lil Jon",
         "5.0",
         "64.0"
        ],
        [
         "35",
         "3ipn9JLAPI5GUEo4y4jcoi",
         "Ludacris",
         "10.0",
         "29.0"
        ],
        [
         "36",
         "5pnbUBPifNnlusY8kTBivi",
         "Jadakiss",
         "11.0",
         "66.0"
        ],
        [
         "37",
         "3DiDSECUqqY1AuBP8qtaIa",
         "Alicia Keys",
         "25.0",
         "55.0"
        ],
        [
         "38",
         "64ovxBmjJ9ZDqkzEXVWpVc",
         "Shyne",
         "6.0",
         "7.0"
        ],
        [
         "39",
         "6vbY3hOaCAhC7VjucswgdS",
         "Twista",
         "21.0",
         "45.0"
        ],
        [
         "40",
         "5K4W6rqBFWDnAN6FQUkS6x",
         "Kanye West",
         "16.0",
         "42.0"
        ],
        [
         "41",
         "6nfYGe7IIuuP5bMY1jkJP6",
         "Jermaine Dupri",
         "4.0",
         "12.0"
        ],
        [
         "42",
         "1FWowTsaucHkPDgmAGGk4T",
         "Allen Mock",
         "3.0",
         "60.0"
        ],
        [
         "43",
         "3aQeKQSyrW4qWr35idm0cy",
         "T-Pain",
         "13.0",
         "62.0"
        ],
        [
         "44",
         "55Aa2cqylxrFIXC767Z865",
         "Lil Wayne",
         "31.0",
         "92.0"
        ],
        [
         "45",
         "0Mz5XE0kb1GBnbLQm2VbcO",
         "Mos Def",
         "5.0",
         "5.0"
        ],
        [
         "46",
         "7u6LfVyYpEzMpHLL7jTyvU",
         "Dwele",
         "5.0",
         "6.0"
        ],
        [
         "47",
         "6GEykX11lQqp92UVOQQCC7",
         "DJ Premier",
         "7.0",
         "42.0"
        ],
        [
         "48",
         "0LQoZQIV0mIs0y0XQb0Sw2",
         "Chris Martin",
         "0.0",
         "0.0"
        ],
        [
         "49",
         "1i4q97Tz8xmGWJps51J7WT",
         "Albe Back",
         "1.0",
         "2.0"
        ]
       ],
       "shape": {
        "columns": 4,
        "rows": 383
       }
      },
      "text/html": [
       "<div>\n",
       "<style scoped>\n",
       "    .dataframe tbody tr th:only-of-type {\n",
       "        vertical-align: middle;\n",
       "    }\n",
       "\n",
       "    .dataframe tbody tr th {\n",
       "        vertical-align: top;\n",
       "    }\n",
       "\n",
       "    .dataframe thead th {\n",
       "        text-align: right;\n",
       "    }\n",
       "</style>\n",
       "<table border=\"1\" class=\"dataframe\">\n",
       "  <thead>\n",
       "    <tr style=\"text-align: right;\">\n",
       "      <th></th>\n",
       "      <th>ID</th>\n",
       "      <th>NAME</th>\n",
       "      <th>TOTAL_ALBUMS</th>\n",
       "      <th>TOTAL_SINGLES</th>\n",
       "    </tr>\n",
       "  </thead>\n",
       "  <tbody>\n",
       "    <tr>\n",
       "      <th>0</th>\n",
       "      <td>0TF6B1cp2QZXLE0NjhTMT9</td>\n",
       "      <td>LITE</td>\n",
       "      <td>15.0</td>\n",
       "      <td>15.0</td>\n",
       "    </tr>\n",
       "    <tr>\n",
       "      <th>1</th>\n",
       "      <td>2lQvoGjN6jJfsAkaywtgrB</td>\n",
       "      <td>Canibus</td>\n",
       "      <td>32.0</td>\n",
       "      <td>37.0</td>\n",
       "    </tr>\n",
       "    <tr>\n",
       "      <th>2</th>\n",
       "      <td>3BeQqzKdlARoOd6y30kCO2</td>\n",
       "      <td>Pete Rock</td>\n",
       "      <td>25.0</td>\n",
       "      <td>45.0</td>\n",
       "    </tr>\n",
       "    <tr>\n",
       "      <th>3</th>\n",
       "      <td>4VhYUWpDsLraUG6Sd8g9TF</td>\n",
       "      <td>Bronze Nazareth</td>\n",
       "      <td>28.0</td>\n",
       "      <td>30.0</td>\n",
       "    </tr>\n",
       "    <tr>\n",
       "      <th>4</th>\n",
       "      <td>26T3LtbuGT1Fu9m0eRq5X3</td>\n",
       "      <td>Cage The Elephant</td>\n",
       "      <td>9.0</td>\n",
       "      <td>13.0</td>\n",
       "    </tr>\n",
       "    <tr>\n",
       "      <th>...</th>\n",
       "      <td>...</td>\n",
       "      <td>...</td>\n",
       "      <td>...</td>\n",
       "      <td>...</td>\n",
       "    </tr>\n",
       "    <tr>\n",
       "      <th>378</th>\n",
       "      <td>NaN</td>\n",
       "      <td>NaN</td>\n",
       "      <td>NaN</td>\n",
       "      <td>NaN</td>\n",
       "    </tr>\n",
       "    <tr>\n",
       "      <th>379</th>\n",
       "      <td>NaN</td>\n",
       "      <td>NaN</td>\n",
       "      <td>NaN</td>\n",
       "      <td>NaN</td>\n",
       "    </tr>\n",
       "    <tr>\n",
       "      <th>380</th>\n",
       "      <td>NaN</td>\n",
       "      <td>NaN</td>\n",
       "      <td>NaN</td>\n",
       "      <td>NaN</td>\n",
       "    </tr>\n",
       "    <tr>\n",
       "      <th>381</th>\n",
       "      <td>NaN</td>\n",
       "      <td>NaN</td>\n",
       "      <td>NaN</td>\n",
       "      <td>NaN</td>\n",
       "    </tr>\n",
       "    <tr>\n",
       "      <th>382</th>\n",
       "      <td>NaN</td>\n",
       "      <td>NaN</td>\n",
       "      <td>NaN</td>\n",
       "      <td>NaN</td>\n",
       "    </tr>\n",
       "  </tbody>\n",
       "</table>\n",
       "<p>383 rows × 4 columns</p>\n",
       "</div>"
      ],
      "text/plain": [
       "                         ID               NAME  TOTAL_ALBUMS  TOTAL_SINGLES\n",
       "0    0TF6B1cp2QZXLE0NjhTMT9               LITE          15.0           15.0\n",
       "1    2lQvoGjN6jJfsAkaywtgrB            Canibus          32.0           37.0\n",
       "2    3BeQqzKdlARoOd6y30kCO2          Pete Rock          25.0           45.0\n",
       "3    4VhYUWpDsLraUG6Sd8g9TF    Bronze Nazareth          28.0           30.0\n",
       "4    26T3LtbuGT1Fu9m0eRq5X3  Cage The Elephant           9.0           13.0\n",
       "..                      ...                ...           ...            ...\n",
       "378                     NaN                NaN           NaN            NaN\n",
       "379                     NaN                NaN           NaN            NaN\n",
       "380                     NaN                NaN           NaN            NaN\n",
       "381                     NaN                NaN           NaN            NaN\n",
       "382                     NaN                NaN           NaN            NaN\n",
       "\n",
       "[383 rows x 4 columns]"
      ]
     },
     "execution_count": 4,
     "metadata": {},
     "output_type": "execute_result"
    }
   ],
   "source": [
    "artist_discography_df"
   ]
  },
  {
   "cell_type": "code",
   "execution_count": 10,
   "metadata": {},
   "outputs": [
    {
     "data": {
      "text/plain": [
       "(True,\n",
       " 1,\n",
       " 383,\n",
       " [('hbjbjiafnz/file0.txt', 'LOADED', 383, 383, 1, 0, None, None, None, None)])"
      ]
     },
     "execution_count": 10,
     "metadata": {},
     "output_type": "execute_result"
    }
   ],
   "source": [
    "from snowflake.connector.pandas_tools import write_pandas\n",
    "write_pandas(con, artist_discography_df, table_name=\"ARTISTS_DISCOGRAPHY\")"
   ]
  }
 ],
 "metadata": {
  "kernelspec": {
   "display_name": "Python 3",
   "language": "python",
   "name": "python3"
  },
  "language_info": {
   "codemirror_mode": {
    "name": "ipython",
    "version": 3
   },
   "file_extension": ".py",
   "mimetype": "text/x-python",
   "name": "python",
   "nbconvert_exporter": "python",
   "pygments_lexer": "ipython3",
   "version": "3.12.9"
  }
 },
 "nbformat": 4,
 "nbformat_minor": 2
}
